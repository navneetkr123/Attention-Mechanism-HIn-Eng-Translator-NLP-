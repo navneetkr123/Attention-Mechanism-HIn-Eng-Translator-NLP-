{
  "nbformat": 4,
  "nbformat_minor": 0,
  "metadata": {
    "accelerator": "GPU",
    "colab": {
      "name": "Hindi_to_English_Translation.ipynb",
      "version": "0.3.2",
      "provenance": [],
      "collapsed_sections": []
    },
    "kernelspec": {
      "name": "python3",
      "display_name": "Python 3"
    },
    "language_info": {
      "codemirror_mode": {
        "name": "ipython",
        "version": 3
      },
      "file_extension": ".py",
      "mimetype": "text/x-python",
      "name": "python",
      "nbconvert_exporter": "python",
      "pygments_lexer": "ipython3",
      "version": "3.5.2"
    }
  },
  "cells": [
    {
      "cell_type": "markdown",
      "metadata": {
        "colab_type": "text",
        "id": "s_qNSzzyaCbD"
      },
      "source": [
        "##### Copyright 2019 The TensorFlow Authors."
      ]
    },
    {
      "cell_type": "markdown",
      "metadata": {
        "id": "sd-8-y8_NKT2",
        "colab_type": "text"
      },
      "source": [
        "# Credit: https://www.tensorflow.org/beta/tutorials/text/nmt_with_attention\n",
        "**Check above links for more exciting tutorial**"
      ]
    },
    {
      "cell_type": "markdown",
      "metadata": {
        "colab_type": "text",
        "id": "J0Qjg6vuaHNt"
      },
      "source": [
        "# Neural Machine Translation with Attention"
      ]
    },
    {
      "cell_type": "markdown",
      "metadata": {
        "colab_type": "text",
        "id": "CiwtNgENbx2g"
      },
      "source": [
        "This notebook trains a sequence to sequence (seq2seq) model for Hindi to English translation. This is an advanced example that assumes some knowledge of sequence to sequence models.\n",
        "\n",
        "After training the model in this notebook, we will be able to input a Hindi sentence, such as **\"तुम कहाँ गए थे?\"**, and return the English translation: **\"where did you go?\"**\n",
        "\n"
      ]
    },
    {
      "cell_type": "code",
      "metadata": {
        "colab_type": "code",
        "id": "tnxXKDjq3jEL",
        "colab": {
          "base_uri": "https://localhost:8080/",
          "height": 34
        },
        "outputId": "5a9e8cd6-c3b0-4a83-b704-976a0d150c96"
      },
      "source": [
        "#https://stackoverflow.com/questions/7075082/what-is-future-in-python-used-for-and-how-when-to-use-it-and-how-it-works\n",
        "#With __future__ module's inclusion, you can slowly be accustomed to incompatible changes or to such ones introducing new keywords.\n",
        "from __future__ import absolute_import, division, print_function, unicode_literals\n",
        "\n",
        "try:\n",
        "  # %tensorflow_version only exists in Colab.\n",
        "  %tensorflow_version 2.x\n",
        "except Exception:\n",
        "  pass\n",
        "import tensorflow as tf\n",
        "\n",
        "import matplotlib.pyplot as plt\n",
        "import matplotlib.ticker as ticker\n",
        "from sklearn.model_selection import train_test_split\n",
        "\n",
        "#https://docs.python.org/2/library/unicodedata.html\n",
        "import unicodedata\n",
        "import re\n",
        "import numpy as np\n",
        "import os\n",
        "import io\n",
        "import time"
      ],
      "execution_count": 1,
      "outputs": [
        {
          "output_type": "stream",
          "text": [
            "TensorFlow 2.x selected.\n"
          ],
          "name": "stdout"
        }
      ]
    },
    {
      "cell_type": "markdown",
      "metadata": {
        "colab_type": "text",
        "id": "wfodePkj3jEa"
      },
      "source": [
        "## Download the dataset\n",
        "\n",
        "I'll use a language dataset provided by http://www.manythings.org/anki/. This dataset contains language translation pairs in the format:\n",
        "\n",
        "I am gonna take hindi to english pair because i can understand it more easily if things are working right or wrong.\n"
      ]
    },
    {
      "cell_type": "markdown",
      "metadata": {
        "id": "Bu28iT_cQ8GV",
        "colab_type": "text"
      },
      "source": [
        "**I downloaded the dataset and put that into my drive and directly fetched it by calling get_file from keras**"
      ]
    },
    {
      "cell_type": "code",
      "metadata": {
        "colab_type": "code",
        "id": "kRVATYOgJs1b",
        "colab": {
          "base_uri": "https://localhost:8080/",
          "height": 71
        },
        "outputId": "3425d564-c02a-403e-b508-9db7774c6b27"
      },
      "source": [
        "# Download the file\n",
        "#tf.keras.utils.get file download the file directly from url\n",
        "#you can read more about this here\n",
        "#https://www.tensorflow.org/api_docs/python/tf/keras/utils/get_file\n",
        "path_to_zip = tf.keras.utils.get_file(\n",
        "    'hin-eng.zip', origin='https://drive.google.com/accounts?authuser=1&continueUrl=https://drive.google.com/uc?authuser%3D1%26id%3D1YSxk17Dj6qwJAKbBqFbvPE3gBjQPe68X%26export%3Ddownload',\n",
        "    extract=True)\n",
        "\n",
        "#path_to_file = os.path.dirname(path_to_zip)+\"/hin-eng/hin.txt\""
      ],
      "execution_count": 2,
      "outputs": [
        {
          "output_type": "stream",
          "text": [
            "Downloading data from https://drive.google.com/accounts?authuser=1&continueUrl=https://drive.google.com/uc?authuser%3D1%26id%3D1YSxk17Dj6qwJAKbBqFbvPE3gBjQPe68X%26export%3Ddownload\n",
            "\r   8192/Unknown - 0s 0us/step"
          ],
          "name": "stdout"
        }
      ]
    },
    {
      "cell_type": "markdown",
      "metadata": {
        "id": "3A2ot_gJTiKu",
        "colab_type": "text"
      },
      "source": [
        "# Text_Preprocessing"
      ]
    },
    {
      "cell_type": "markdown",
      "metadata": {
        "id": "vFi-CRG9TvvP",
        "colab_type": "text"
      },
      "source": [
        "**Here we cannot remove most of the the character like we saw here https://www.tensorflow.org/beta/tutorials/text/nmt_with_attention**\\\n",
        "**because hindi words has a lot of character that we cannot remove like this moon like structure above \"kahan\" \"कहाँ \"**"
      ]
    },
    {
      "cell_type": "code",
      "metadata": {
        "colab_type": "code",
        "id": "rd0jw-eC3jEh",
        "colab": {}
      },
      "source": [
        "#text preprocessing\n",
        "def preprocess_sentence(w):\n",
        "    # creating a space between a word and the punctuation following it\n",
        "    # eg: \"he is a boy.\" => \"he is a boy .\"\n",
        "    # Reference:- https://stackoverflow.com/questions/3645931/python-padding-punctuation-with-white-spaces-keeping-punctuation\n",
        "    w = re.sub(r\"([?.!,¿])\", r\" \\1 \", w)\n",
        "    w = re.sub(r'[\" \"]+', \" \", w)\n",
        "    w = w.rstrip().strip()\n",
        "\n",
        "    # adding a start and an end token to the sentence\n",
        "    # so that the model know when to start and stop predicting.\n",
        "    w = '<start> ' + w + ' <end>'\n",
        "    return w"
      ],
      "execution_count": 0,
      "outputs": []
    },
    {
      "cell_type": "markdown",
      "metadata": {
        "id": "FMORSihPUykZ",
        "colab_type": "text"
      },
      "source": [
        "**checking if our preprocessed sentence is working fine or not**"
      ]
    },
    {
      "cell_type": "code",
      "metadata": {
        "colab_type": "code",
        "id": "opI2GzOt479E",
        "colab": {
          "base_uri": "https://localhost:8080/",
          "height": 71
        },
        "outputId": "4ad41d91-08b5-4b35-d1cf-5d4dec71c304"
      },
      "source": [
        "en_sentence = u\"where did you go?\"\n",
        "hi_sentence = u\"तुम कहाँ गए थे?\"\n",
        "print(preprocess_sentence(en_sentence))\n",
        "print(preprocess_sentence(hi_sentence).encode('utf-8'))"
      ],
      "execution_count": 4,
      "outputs": [
        {
          "output_type": "stream",
          "text": [
            "<start> where did you go ? <end>\n",
            "b'<start> \\xe0\\xa4\\xa4\\xe0\\xa5\\x81\\xe0\\xa4\\xae \\xe0\\xa4\\x95\\xe0\\xa4\\xb9\\xe0\\xa4\\xbe\\xe0\\xa4\\x81 \\xe0\\xa4\\x97\\xe0\\xa4\\x8f \\xe0\\xa4\\xa5\\xe0\\xa5\\x87 ? <end>'\n"
          ],
          "name": "stdout"
        }
      ]
    },
    {
      "cell_type": "markdown",
      "metadata": {
        "id": "NopeV-SxX9Bh",
        "colab_type": "text"
      },
      "source": [
        "# Creating dataset"
      ]
    },
    {
      "cell_type": "code",
      "metadata": {
        "colab_type": "code",
        "id": "OHn4Dct23jEm",
        "colab": {}
      },
      "source": [
        "# 1. Remove the accents\n",
        "# 2. Clean the sentences\n",
        "# 3. Return word pairs in the format: [ENGLISH, HINDI]\n",
        "def create_dataset(path, num_examples):\n",
        "    #below block of line will open the file, read it strip from beginning and end and finally split the line when found \"\\n\"\n",
        "    lines = io.open(path, encoding='UTF-8').read().strip().split('\\n')\n",
        "    #you can check the printed lines using print\n",
        "    #print(lines)\n",
        "     \n",
        "    #below lines will give us preprocessed word pairs  \n",
        "    word_pairs = [[preprocess_sentence(w) for w in l.split('\\t')]  for l in lines[:num_examples]]\n",
        "    \n",
        "    #Returns a single iterator object, having mapped values from all the containers.\n",
        "    #you can find more about zip() here https://www.geeksforgeeks.org/zip-in-python/\n",
        "    return zip(*word_pairs)"
      ],
      "execution_count": 0,
      "outputs": []
    },
    {
      "cell_type": "code",
      "metadata": {
        "colab_type": "code",
        "id": "cTbSbBz55QtF",
        "colab": {
          "base_uri": "https://localhost:8080/",
          "height": 51
        },
        "outputId": "1d507690-e2cd-4767-931a-de13580d30dc"
      },
      "source": [
        "#creating dataset preprocessing and zipping\n",
        "en, hi = create_dataset(\"hin.txt\", None)\n",
        "print(en[10])\n",
        "print(hi[10])"
      ],
      "execution_count": 6,
      "outputs": [
        {
          "output_type": "stream",
          "text": [
            "<start> I'm OK . <end>\n",
            "<start> मैं ठीक हूँ। <end>\n"
          ],
          "name": "stdout"
        }
      ]
    },
    {
      "cell_type": "markdown",
      "metadata": {
        "id": "xKpViwi2YL7E",
        "colab_type": "text"
      },
      "source": [
        "# maximum length function of tensor"
      ]
    },
    {
      "cell_type": "code",
      "metadata": {
        "colab_type": "code",
        "id": "OmMZQpdO60dt",
        "colab": {}
      },
      "source": [
        "def max_length(tensor):\n",
        "    return max(len(t) for t in tensor)"
      ],
      "execution_count": 0,
      "outputs": []
    },
    {
      "cell_type": "markdown",
      "metadata": {
        "id": "9uMdIeI8YT6q",
        "colab_type": "text"
      },
      "source": [
        "# Tokenizeing function"
      ]
    },
    {
      "cell_type": "markdown",
      "metadata": {
        "id": "Bc7hTkbpZIBs",
        "colab_type": "text"
      },
      "source": [
        "**filters: a string where each element is a character that will be\n",
        "    filtered from the texts. The default is all punctuation, plus\n",
        "    tabs and line breaks, minus the `'` character.**\n",
        "    https://www.tensorflow.org/api_docs/python/tf/keras/preprocessing/text/Tokenizer"
      ]
    },
    {
      "cell_type": "code",
      "metadata": {
        "colab_type": "code",
        "id": "bIOn8RCNDJXG",
        "colab": {}
      },
      "source": [
        "def tokenize(lang):\n",
        "  #below code vectorizes text and returns a sequence of integer\n",
        "  #you can read more about this here \n",
        "  #https://www.tensorflow.org/api_docs/python/tf/keras/preprocessing/text/Tokenizer\n",
        "  lang_tokenizer = tf.keras.preprocessing.text.Tokenizer(\n",
        "      filters='')\n",
        "  #here fit and text to sequence works same as we have seen in scikit learn\n",
        "  lang_tokenizer.fit_on_texts(lang)\n",
        "  \n",
        "  #transforms into sequence of information\n",
        "  #https://rdrr.io/cran/keras/man/texts_to_sequences.html\n",
        "  tensor = lang_tokenizer.texts_to_sequences(lang)\n",
        "  \n",
        "  #this will do post padding of tensor\n",
        "  tensor = tf.keras.preprocessing.sequence.pad_sequences(tensor,\n",
        "                                                         padding='post')\n",
        "\n",
        "  return tensor, lang_tokenizer"
      ],
      "execution_count": 0,
      "outputs": []
    },
    {
      "cell_type": "markdown",
      "metadata": {
        "id": "4ARVdukLaQe0",
        "colab_type": "text"
      },
      "source": [
        "# Load_Dataset function"
      ]
    },
    {
      "cell_type": "markdown",
      "metadata": {
        "id": "eYDR3UPmaUlT",
        "colab_type": "text"
      },
      "source": [
        "**number_examples will take the number of extramples with which we want to work.**"
      ]
    },
    {
      "cell_type": "code",
      "metadata": {
        "colab_type": "code",
        "id": "eAY9k49G3jE_",
        "colab": {}
      },
      "source": [
        "#everything used in this section is explained above.\n",
        "#this will return input tensor , target tensor, input and output length of sequence.\n",
        "def load_dataset(path, num_examples=None):\n",
        "    # creating cleaned input, output pairs\n",
        "    targ_lang, inp_lang = create_dataset(path, num_examples)\n",
        "\n",
        "    input_tensor, inp_lang_tokenizer = tokenize(inp_lang)\n",
        "    target_tensor, targ_lang_tokenizer = tokenize(targ_lang)\n",
        "\n",
        "    return input_tensor, target_tensor, inp_lang_tokenizer, targ_lang_tokenizer"
      ],
      "execution_count": 0,
      "outputs": []
    },
    {
      "cell_type": "markdown",
      "metadata": {
        "colab_type": "text",
        "id": "GOi42V79Ydlr"
      },
      "source": [
        "**since hindi to english dataset has not much examples , so we will consider all**\\\n",
        "**But remeber more the dataset better the result**"
      ]
    },
    {
      "cell_type": "code",
      "metadata": {
        "colab_type": "code",
        "id": "cnxC7q-j3jFD",
        "colab": {}
      },
      "source": [
        "# Try experimenting with the size of that dataset\n",
        "num_examples = 100000\n",
        "input_tensor, target_tensor, inp_lang, targ_lang = load_dataset(\"hin.txt\", num_examples)\n",
        "\n",
        "# Calculate max_length of the target tensors\n",
        "max_length_targ, max_length_inp = max_length(target_tensor), max_length(input_tensor)"
      ],
      "execution_count": 0,
      "outputs": []
    },
    {
      "cell_type": "markdown",
      "metadata": {
        "id": "jAFdjFLf-HW4",
        "colab_type": "text"
      },
      "source": [
        "# Dividing dataset into train and validation"
      ]
    },
    {
      "cell_type": "code",
      "metadata": {
        "colab_type": "code",
        "id": "4QILQkOs3jFG",
        "colab": {
          "base_uri": "https://localhost:8080/",
          "height": 34
        },
        "outputId": "06427023-12da-40b0-e8c2-aabadc376985"
      },
      "source": [
        "# Creating training and validation sets using an 80-20 split\n",
        "input_tensor_train, input_tensor_val, target_tensor_train, target_tensor_val = train_test_split(input_tensor, target_tensor, test_size=0.2)\n",
        "\n",
        "# Show length\n",
        "print(len(input_tensor_train), len(target_tensor_train), len(input_tensor_val), len(target_tensor_val))"
      ],
      "execution_count": 35,
      "outputs": [
        {
          "output_type": "stream",
          "text": [
            "2246 2246 562 562\n"
          ],
          "name": "stdout"
        }
      ]
    },
    {
      "cell_type": "code",
      "metadata": {
        "colab_type": "code",
        "id": "lJPmLZGMeD5q",
        "colab": {}
      },
      "source": [
        "def convert(lang, tensor):\n",
        "  for t in tensor:\n",
        "    if t!=0:\n",
        "      print (\"%d ----> %s\" % (t, lang.index_word[t]))"
      ],
      "execution_count": 0,
      "outputs": []
    },
    {
      "cell_type": "code",
      "metadata": {
        "colab_type": "code",
        "id": "VXukARTDd7MT",
        "colab": {
          "base_uri": "https://localhost:8080/",
          "height": 289
        },
        "outputId": "4ca5e134-afdf-4df7-fd04-518cc860f37d"
      },
      "source": [
        "print (\"Input Language; index to word mapping\")\n",
        "convert(inp_lang, input_tensor_train[0])\n",
        "print ()\n",
        "print (\"Target Language; index to word mapping\")\n",
        "convert(targ_lang, target_tensor_train[0])"
      ],
      "execution_count": 37,
      "outputs": [
        {
          "output_type": "stream",
          "text": [
            "Input Language; index to word mapping\n",
            "1 ----> <start>\n",
            "793 ----> रेलगाड़ी\n",
            "9 ----> से\n",
            "1601 ----> चलते\n",
            "15 ----> हैं।\n",
            "2 ----> <end>\n",
            "\n",
            "Target Language; index to word mapping\n",
            "1 ----> <start>\n",
            "180 ----> let's\n",
            "71 ----> take\n",
            "10 ----> a\n",
            "148 ----> train\n",
            "3 ----> .\n",
            "2 ----> <end>\n"
          ],
          "name": "stdout"
        }
      ]
    },
    {
      "cell_type": "markdown",
      "metadata": {
        "colab_type": "text",
        "id": "rgCLkfv5uO3d"
      },
      "source": [
        "### Create a tf.data dataset\n",
        "**from_tensor_slices creates a dataset with a separate element for each row of the input tensor:**\\\n",
        "**please follow this two link to read more**\n",
        "https://stackoverflow.com/questions/49579684/difference-between-dataset-from-tensors-and-dataset-from-tensor-slices \\\n",
        "https://towardsdatascience.com/how-to-use-dataset-in-tensorflow-c758ef9e4428"
      ]
    },
    {
      "cell_type": "code",
      "metadata": {
        "colab_type": "code",
        "id": "TqHsArVZ3jFS",
        "colab": {}
      },
      "source": [
        "#length of input tensor train\n",
        "BUFFER_SIZE = len(input_tensor_train)\n",
        "#batch size\n",
        "BATCH_SIZE = 64\n",
        "#steps taken in each epochs\n",
        "steps_per_epoch = len(input_tensor_train)//BATCH_SIZE\n",
        "#total embedding dimensions of tensor\n",
        "embedding_dim = 256\n",
        "units = 1024\n",
        "#vocabulary size of input and target\n",
        "vocab_inp_size = len(inp_lang.word_index)+1\n",
        "vocab_tar_size = len(targ_lang.word_index)+1\n",
        "\n",
        "#tf.data.Dataset.from_tensor.slices\n",
        "dataset = tf.data.Dataset.from_tensor_slices((input_tensor_train, target_tensor_train)).shuffle(BUFFER_SIZE)\n",
        "dataset = dataset.batch(BATCH_SIZE, drop_remainder=True)"
      ],
      "execution_count": 0,
      "outputs": []
    },
    {
      "cell_type": "markdown",
      "metadata": {
        "id": "mb51Jz90CLox",
        "colab_type": "text"
      },
      "source": [
        "**next returns next items from the iterator**\\\n",
        "**please follow this link to read more** https://www.programiz.com/python-programming/methods/built-in/next"
      ]
    },
    {
      "cell_type": "code",
      "metadata": {
        "colab_type": "code",
        "id": "qc6-NK1GtWQt",
        "colab": {
          "base_uri": "https://localhost:8080/",
          "height": 34
        },
        "outputId": "af1af800-60ee-4d00-aecb-169815132612"
      },
      "source": [
        "example_input_batch, example_target_batch = next(iter(dataset))\n",
        "example_input_batch.shape, example_target_batch.shape"
      ],
      "execution_count": 39,
      "outputs": [
        {
          "output_type": "execute_result",
          "data": {
            "text/plain": [
              "(TensorShape([64, 29]), TensorShape([64, 27]))"
            ]
          },
          "metadata": {
            "tags": []
          },
          "execution_count": 39
        }
      ]
    },
    {
      "cell_type": "markdown",
      "metadata": {
        "id": "ynrE0oBxyqMy",
        "colab_type": "text"
      },
      "source": [
        "**https://ai.googleblog.com/2016/09/a-neural-network-for-machine.html**"
      ]
    },
    {
      "cell_type": "markdown",
      "metadata": {
        "id": "_6E3Ow3RIMxZ",
        "colab_type": "text"
      },
      "source": [
        "# Encoder\n",
        "> An encoder neural network reads and encodes a source sen-tence into a fixed-length vector"
      ]
    },
    {
      "cell_type": "code",
      "metadata": {
        "colab_type": "code",
        "id": "nZ2rI24i3jFg",
        "colab": {}
      },
      "source": [
        "class Encoder(tf.keras.Model):\n",
        "  def __init__(self, vocab_size, embedding_dim, enc_units, batch_sz):\n",
        "    #The super() builtin returns a proxy object that allows you to refer parent class by 'super'.\n",
        "    #https://www.programiz.com/python-programming/methods/built-in/super\n",
        "    super(Encoder, self).__init__()\n",
        "    self.batch_sz = batch_sz\n",
        "    self.enc_units = enc_units\n",
        "    self.embedding = tf.keras.layers.Embedding(vocab_size, embedding_dim)\n",
        "    self.gru = tf.keras.layers.GRU(self.enc_units,\n",
        "                                   return_sequences=True,\n",
        "                                   return_state=True,\n",
        "                                   recurrent_initializer='glorot_uniform')\n",
        "\n",
        "  def call(self, x, hidden):\n",
        "    x = self.embedding(x)\n",
        "    output, state = self.gru(x, initial_state = hidden)\n",
        "    return output, state\n",
        "\n",
        "  def initialize_hidden_state(self):\n",
        "    return tf.zeros((self.batch_sz, self.enc_units))"
      ],
      "execution_count": 0,
      "outputs": []
    },
    {
      "cell_type": "code",
      "metadata": {
        "colab_type": "code",
        "id": "60gSVh05Jl6l",
        "colab": {
          "base_uri": "https://localhost:8080/",
          "height": 51
        },
        "outputId": "dcf73716-d577-4abb-b19d-77fb5a68f710"
      },
      "source": [
        "encoder = Encoder(vocab_inp_size, embedding_dim, units, BATCH_SIZE)\n",
        "\n",
        "# sample input\n",
        "#calling the initialize_hidden_state function\n",
        "sample_hidden = encoder.initialize_hidden_state()\n",
        "sample_output, sample_hidden = encoder(example_input_batch, sample_hidden)\n",
        "print ('Encoder output shape: (batch size, sequence length, units) {}'.format(sample_output.shape))\n",
        "print ('Encoder Hidden state shape: (batch size, units) {}'.format(sample_hidden.shape))"
      ],
      "execution_count": 41,
      "outputs": [
        {
          "output_type": "stream",
          "text": [
            "Encoder output shape: (batch size, sequence length, units) (64, 29, 1024)\n",
            "Encoder Hidden state shape: (batch size, units) (64, 1024)\n"
          ],
          "name": "stdout"
        }
      ]
    },
    {
      "cell_type": "markdown",
      "metadata": {
        "id": "cioRl7OKLmh4",
        "colab_type": "text"
      },
      "source": [
        "**tf.expand_dims inserts a dimension of 1 in input shape**\\\n",
        "https://www.tensorflow.org/api_docs/python/tf/expand_dims"
      ]
    },
    {
      "cell_type": "code",
      "metadata": {
        "colab_type": "code",
        "id": "umohpBN2OM94",
        "colab": {}
      },
      "source": [
        "#https://arxiv.org/abs/1409.0473\n",
        "class BahdanauAttention(tf.keras.Model):\n",
        "  def __init__(self, units):\n",
        "    super(BahdanauAttention, self).__init__()\n",
        "    self.W1 = tf.keras.layers.Dense(units)\n",
        "    self.W2 = tf.keras.layers.Dense(units)\n",
        "    self.V = tf.keras.layers.Dense(1)\n",
        "\n",
        "  def call(self, query, values):\n",
        "    # hidden shape == (batch_size, hidden size)\n",
        "    # hidden_with_time_axis shape == (batch_size, 1, hidden size)\n",
        "    # we are doing this to perform addition to calculate the score\n",
        "    hidden_with_time_axis = tf.expand_dims(query, 1)\n",
        "\n",
        "    # score shape == (batch_size, max_length, 1)\n",
        "    # we get 1 at the last axis because we are applying score to self.V\n",
        "    # the shape of the tensor before applying self.V is (batch_size, max_length, units)\n",
        "    score = self.V(tf.nn.tanh(\n",
        "        self.W1(values) + self.W2(hidden_with_time_axis)))\n",
        "\n",
        "    # attention_weights shape == (batch_size, max_length, 1)\n",
        "    attention_weights = tf.nn.softmax(score, axis=1)\n",
        "\n",
        "    # context_vector shape after sum == (batch_size, hidden_size)\n",
        "    context_vector = attention_weights * values\n",
        "    context_vector = tf.reduce_sum(context_vector, axis=1)\n",
        "\n",
        "    return context_vector, attention_weights"
      ],
      "execution_count": 0,
      "outputs": []
    },
    {
      "cell_type": "code",
      "metadata": {
        "colab_type": "code",
        "id": "k534zTHiDjQU",
        "colab": {
          "base_uri": "https://localhost:8080/",
          "height": 51
        },
        "outputId": "b466cf92-5231-4a27-d6d1-640d5126dbd1"
      },
      "source": [
        "attention_layer = BahdanauAttention(10)\n",
        "attention_result, attention_weights = attention_layer(sample_hidden, sample_output)\n",
        "\n",
        "print(\"Attention result shape: (batch size, units) {}\".format(attention_result.shape))\n",
        "print(\"Attention weights shape: (batch_size, sequence_length, 1) {}\".format(attention_weights.shape))"
      ],
      "execution_count": 43,
      "outputs": [
        {
          "output_type": "stream",
          "text": [
            "Attention result shape: (batch size, units) (64, 1024)\n",
            "Attention weights shape: (batch_size, sequence_length, 1) (64, 29, 1)\n"
          ],
          "name": "stdout"
        }
      ]
    },
    {
      "cell_type": "markdown",
      "metadata": {
        "id": "AiIf6vAVIUTP",
        "colab_type": "text"
      },
      "source": [
        "# Decoder\n",
        "> A decoder outputs a translation from the encoded vector"
      ]
    },
    {
      "cell_type": "code",
      "metadata": {
        "colab_type": "code",
        "id": "yJ_B3mhW3jFk",
        "colab": {}
      },
      "source": [
        "class Decoder(tf.keras.Model):\n",
        "  def __init__(self, vocab_size, embedding_dim, dec_units, batch_sz):\n",
        "    super(Decoder, self).__init__()\n",
        "    self.batch_sz = batch_sz\n",
        "    self.dec_units = dec_units\n",
        "    self.embedding = tf.keras.layers.Embedding(vocab_size, embedding_dim)\n",
        "    self.gru = tf.keras.layers.GRU(self.dec_units,\n",
        "                                   return_sequences=True,\n",
        "                                   return_state=True,\n",
        "                                   recurrent_initializer='glorot_uniform')\n",
        "    self.fc = tf.keras.layers.Dense(vocab_size)\n",
        "\n",
        "    # used for attention\n",
        "    self.attention = BahdanauAttention(self.dec_units)\n",
        "\n",
        "  def call(self, x, hidden, enc_output):\n",
        "    # enc_output shape == (batch_size, max_length, hidden_size)\n",
        "    context_vector, attention_weights = self.attention(hidden, enc_output)\n",
        "\n",
        "    # x shape after passing through embedding == (batch_size, 1, embedding_dim)\n",
        "    x = self.embedding(x)\n",
        "\n",
        "    # x shape after concatenation == (batch_size, 1, embedding_dim + hidden_size)\n",
        "    x = tf.concat([tf.expand_dims(context_vector, 1), x], axis=-1)\n",
        "\n",
        "    # passing the concatenated vector to the GRU\n",
        "    output, state = self.gru(x)\n",
        "\n",
        "    # output shape == (batch_size * 1, hidden_size)\n",
        "    output = tf.reshape(output, (-1, output.shape[2]))\n",
        "\n",
        "    # output shape == (batch_size, vocab)\n",
        "    x = self.fc(output)\n",
        "\n",
        "    return x, state, attention_weights"
      ],
      "execution_count": 0,
      "outputs": []
    },
    {
      "cell_type": "code",
      "metadata": {
        "colab_type": "code",
        "id": "P5UY8wko3jFp",
        "colab": {
          "base_uri": "https://localhost:8080/",
          "height": 34
        },
        "outputId": "c87b205c-4d5f-4c2f-d9c3-383a6fafa174"
      },
      "source": [
        "decoder = Decoder(vocab_tar_size, embedding_dim, units, BATCH_SIZE)\n",
        "\n",
        "sample_decoder_output, _, _ = decoder(tf.random.uniform((64, 1)),\n",
        "                                      sample_hidden, sample_output)\n",
        "\n",
        "print ('Decoder output shape: (batch_size, vocab size) {}'.format(sample_decoder_output.shape))"
      ],
      "execution_count": 45,
      "outputs": [
        {
          "output_type": "stream",
          "text": [
            "Decoder output shape: (batch_size, vocab size) (64, 2402)\n"
          ],
          "name": "stdout"
        }
      ]
    },
    {
      "cell_type": "markdown",
      "metadata": {
        "colab_type": "text",
        "id": "_ch_71VbIRfK"
      },
      "source": [
        "## Define the optimizer and the loss function"
      ]
    },
    {
      "cell_type": "code",
      "metadata": {
        "colab_type": "code",
        "id": "WmTHr5iV3jFr",
        "colab": {}
      },
      "source": [
        "optimizer = tf.keras.optimizers.Adam()\n",
        "loss_object = tf.keras.losses.SparseCategoricalCrossentropy(\n",
        "    from_logits=True, reduction='none')\n",
        "\n",
        "def loss_function(real, pred):\n",
        "  mask = tf.math.logical_not(tf.math.equal(real, 0))\n",
        "  loss_ = loss_object(real, pred)\n",
        "\n",
        "  mask = tf.cast(mask, dtype=loss_.dtype)\n",
        "  loss_ *= mask\n",
        "\n",
        "  return tf.reduce_mean(loss_)"
      ],
      "execution_count": 0,
      "outputs": []
    },
    {
      "cell_type": "markdown",
      "metadata": {
        "colab_type": "text",
        "id": "DMVWzzsfNl4e"
      },
      "source": [
        "## Checkpoints (Object-based saving)"
      ]
    },
    {
      "cell_type": "code",
      "metadata": {
        "colab_type": "code",
        "id": "Zj8bXQTgNwrF",
        "colab": {}
      },
      "source": [
        "checkpoint_dir = './training_checkpoints'\n",
        "checkpoint_prefix = os.path.join(checkpoint_dir, \"ckpt\")\n",
        "checkpoint = tf.train.Checkpoint(optimizer=optimizer,\n",
        "                                 encoder=encoder,\n",
        "                                 decoder=decoder)"
      ],
      "execution_count": 0,
      "outputs": []
    },
    {
      "cell_type": "markdown",
      "metadata": {
        "colab_type": "text",
        "id": "hpObfY22IddU"
      },
      "source": [
        "## Training\n",
        "\n",
        "1. Pass the *input* through the *encoder* which return *encoder output* and the *encoder hidden state*.\n",
        "2. The encoder output, encoder hidden state and the decoder input (which is the *start token*) is passed to the decoder.\n",
        "3. The decoder returns the *predictions* and the *decoder hidden state*.\n",
        "4. The decoder hidden state is then passed back into the model and the predictions are used to calculate the loss.\n",
        "5. Use *teacher forcing* to decide the next input to the decoder.\n",
        "6. *Teacher forcing* is the technique where the *target word* is passed as the *next input* to the decoder.\n",
        "7. The final step is to calculate the gradients and apply it to the optimizer and backpropagate."
      ]
    },
    {
      "cell_type": "code",
      "metadata": {
        "colab_type": "code",
        "id": "sC9ArXSsVfqn",
        "colab": {}
      },
      "source": [
        "@tf.function\n",
        "def train_step(inp, targ, enc_hidden):\n",
        "  loss = 0\n",
        "\n",
        "  with tf.GradientTape() as tape:\n",
        "    enc_output, enc_hidden = encoder(inp, enc_hidden)\n",
        "\n",
        "    dec_hidden = enc_hidden\n",
        "\n",
        "    dec_input = tf.expand_dims([targ_lang.word_index['<start>']] * BATCH_SIZE, 1)\n",
        "\n",
        "    # Teacher forcing - feeding the target as the next input\n",
        "    for t in range(1, targ.shape[1]):\n",
        "      # passing enc_output to the decoder\n",
        "      predictions, dec_hidden, _ = decoder(dec_input, dec_hidden, enc_output)\n",
        "\n",
        "      loss += loss_function(targ[:, t], predictions)\n",
        "\n",
        "      # using teacher forcing\n",
        "      dec_input = tf.expand_dims(targ[:, t], 1)\n",
        "\n",
        "  batch_loss = (loss / int(targ.shape[1]))\n",
        "\n",
        "  variables = encoder.trainable_variables + decoder.trainable_variables\n",
        "\n",
        "  gradients = tape.gradient(loss, variables)\n",
        "\n",
        "  optimizer.apply_gradients(zip(gradients, variables))\n",
        "\n",
        "  return batch_loss"
      ],
      "execution_count": 0,
      "outputs": []
    },
    {
      "cell_type": "code",
      "metadata": {
        "colab_type": "code",
        "id": "ddefjBMa3jF0",
        "colab": {
          "base_uri": "https://localhost:8080/",
          "height": 1000
        },
        "outputId": "b84289c4-d4a7-42c6-ba2d-d19a98f8239e"
      },
      "source": [
        "EPOCHS = 50\n",
        "\n",
        "for epoch in range(EPOCHS):\n",
        "  start = time.time()\n",
        "\n",
        "  enc_hidden = encoder.initialize_hidden_state()\n",
        "  total_loss = 0\n",
        "\n",
        "  for (batch, (inp, targ)) in enumerate(dataset.take(steps_per_epoch)):\n",
        "    batch_loss = train_step(inp, targ, enc_hidden)\n",
        "    total_loss += batch_loss\n",
        "\n",
        "    if batch % 100 == 0:\n",
        "        print('Epoch {} Batch {} Loss {:.4f}'.format(epoch + 1,\n",
        "                                                     batch,\n",
        "                                                     batch_loss.numpy()))\n",
        "  # saving (checkpoint) the model every 2 epochs\n",
        "  if (epoch + 1) % 2 == 0:\n",
        "    checkpoint.save(file_prefix = checkpoint_prefix)\n",
        "\n",
        "  print('Epoch {} Loss {:.4f}'.format(epoch + 1,\n",
        "                                      total_loss / steps_per_epoch))\n",
        "  print('Time taken for 1 epoch {} sec\\n'.format(time.time() - start))"
      ],
      "execution_count": 49,
      "outputs": [
        {
          "output_type": "stream",
          "text": [
            "Epoch 1 Batch 0 Loss 2.2435\n",
            "Epoch 1 Loss 1.8344\n",
            "Time taken for 1 epoch 61.02236461639404 sec\n",
            "\n",
            "Epoch 2 Batch 0 Loss 1.4932\n",
            "Epoch 2 Loss 1.5344\n",
            "Time taken for 1 epoch 8.478703260421753 sec\n",
            "\n",
            "Epoch 3 Batch 0 Loss 1.3563\n",
            "Epoch 3 Loss 1.4304\n",
            "Time taken for 1 epoch 7.965282201766968 sec\n",
            "\n",
            "Epoch 4 Batch 0 Loss 1.2661\n",
            "Epoch 4 Loss 1.3448\n",
            "Time taken for 1 epoch 8.26724910736084 sec\n",
            "\n",
            "Epoch 5 Batch 0 Loss 1.1937\n",
            "Epoch 5 Loss 1.2676\n",
            "Time taken for 1 epoch 7.8471291065216064 sec\n",
            "\n",
            "Epoch 6 Batch 0 Loss 1.1209\n",
            "Epoch 6 Loss 1.1936\n",
            "Time taken for 1 epoch 8.21208643913269 sec\n",
            "\n",
            "Epoch 7 Batch 0 Loss 1.0462\n",
            "Epoch 7 Loss 1.1267\n",
            "Time taken for 1 epoch 7.777794361114502 sec\n",
            "\n",
            "Epoch 8 Batch 0 Loss 0.9926\n",
            "Epoch 8 Loss 1.0667\n",
            "Time taken for 1 epoch 8.203632354736328 sec\n",
            "\n",
            "Epoch 9 Batch 0 Loss 0.9257\n",
            "Epoch 9 Loss 1.0093\n",
            "Time taken for 1 epoch 7.740589380264282 sec\n",
            "\n",
            "Epoch 10 Batch 0 Loss 0.8797\n",
            "Epoch 10 Loss 0.9586\n",
            "Time taken for 1 epoch 8.179343700408936 sec\n",
            "\n",
            "Epoch 11 Batch 0 Loss 0.8220\n",
            "Epoch 11 Loss 0.9013\n",
            "Time taken for 1 epoch 7.804486274719238 sec\n",
            "\n",
            "Epoch 12 Batch 0 Loss 0.7715\n",
            "Epoch 12 Loss 0.8502\n",
            "Time taken for 1 epoch 8.260965585708618 sec\n",
            "\n",
            "Epoch 13 Batch 0 Loss 0.7235\n",
            "Epoch 13 Loss 0.7915\n",
            "Time taken for 1 epoch 7.802959442138672 sec\n",
            "\n",
            "Epoch 14 Batch 0 Loss 0.6906\n",
            "Epoch 14 Loss 0.7347\n",
            "Time taken for 1 epoch 8.24806833267212 sec\n",
            "\n",
            "Epoch 15 Batch 0 Loss 0.6381\n",
            "Epoch 15 Loss 0.6829\n",
            "Time taken for 1 epoch 7.827206134796143 sec\n",
            "\n",
            "Epoch 16 Batch 0 Loss 0.5825\n",
            "Epoch 16 Loss 0.6345\n",
            "Time taken for 1 epoch 8.252177238464355 sec\n",
            "\n",
            "Epoch 17 Batch 0 Loss 0.5296\n",
            "Epoch 17 Loss 0.5824\n",
            "Time taken for 1 epoch 7.76607608795166 sec\n",
            "\n",
            "Epoch 18 Batch 0 Loss 0.4811\n",
            "Epoch 18 Loss 0.5405\n",
            "Time taken for 1 epoch 8.258508682250977 sec\n",
            "\n",
            "Epoch 19 Batch 0 Loss 0.4618\n",
            "Epoch 19 Loss 0.5027\n",
            "Time taken for 1 epoch 7.785032749176025 sec\n",
            "\n",
            "Epoch 20 Batch 0 Loss 0.4273\n",
            "Epoch 20 Loss 0.4540\n",
            "Time taken for 1 epoch 8.185736894607544 sec\n",
            "\n",
            "Epoch 21 Batch 0 Loss 0.3699\n",
            "Epoch 21 Loss 0.3939\n",
            "Time taken for 1 epoch 7.801461696624756 sec\n",
            "\n",
            "Epoch 22 Batch 0 Loss 0.3241\n",
            "Epoch 22 Loss 0.3396\n",
            "Time taken for 1 epoch 8.284740209579468 sec\n",
            "\n",
            "Epoch 23 Batch 0 Loss 0.2728\n",
            "Epoch 23 Loss 0.2928\n",
            "Time taken for 1 epoch 7.808155059814453 sec\n",
            "\n",
            "Epoch 24 Batch 0 Loss 0.2391\n",
            "Epoch 24 Loss 0.2577\n",
            "Time taken for 1 epoch 8.269324779510498 sec\n",
            "\n",
            "Epoch 25 Batch 0 Loss 0.2206\n",
            "Epoch 25 Loss 0.2215\n",
            "Time taken for 1 epoch 7.789546728134155 sec\n",
            "\n",
            "Epoch 26 Batch 0 Loss 0.1857\n",
            "Epoch 26 Loss 0.1852\n",
            "Time taken for 1 epoch 8.249512434005737 sec\n",
            "\n",
            "Epoch 27 Batch 0 Loss 0.1588\n",
            "Epoch 27 Loss 0.1568\n",
            "Time taken for 1 epoch 7.809270620346069 sec\n",
            "\n",
            "Epoch 28 Batch 0 Loss 0.1248\n",
            "Epoch 28 Loss 0.1326\n",
            "Time taken for 1 epoch 8.238546371459961 sec\n",
            "\n",
            "Epoch 29 Batch 0 Loss 0.1143\n",
            "Epoch 29 Loss 0.1161\n",
            "Time taken for 1 epoch 7.816571474075317 sec\n",
            "\n",
            "Epoch 30 Batch 0 Loss 0.0990\n",
            "Epoch 30 Loss 0.1040\n",
            "Time taken for 1 epoch 8.232054710388184 sec\n",
            "\n",
            "Epoch 31 Batch 0 Loss 0.0928\n",
            "Epoch 31 Loss 0.0894\n",
            "Time taken for 1 epoch 7.816209554672241 sec\n",
            "\n",
            "Epoch 32 Batch 0 Loss 0.0738\n",
            "Epoch 32 Loss 0.0725\n",
            "Time taken for 1 epoch 8.217530727386475 sec\n",
            "\n",
            "Epoch 33 Batch 0 Loss 0.0531\n",
            "Epoch 33 Loss 0.0529\n",
            "Time taken for 1 epoch 7.781341791152954 sec\n",
            "\n",
            "Epoch 34 Batch 0 Loss 0.0373\n",
            "Epoch 34 Loss 0.0393\n",
            "Time taken for 1 epoch 8.16039228439331 sec\n",
            "\n",
            "Epoch 35 Batch 0 Loss 0.0275\n",
            "Epoch 35 Loss 0.0303\n",
            "Time taken for 1 epoch 7.794283628463745 sec\n",
            "\n",
            "Epoch 36 Batch 0 Loss 0.0220\n",
            "Epoch 36 Loss 0.0240\n",
            "Time taken for 1 epoch 8.186697483062744 sec\n",
            "\n",
            "Epoch 37 Batch 0 Loss 0.0168\n",
            "Epoch 37 Loss 0.0187\n",
            "Time taken for 1 epoch 7.830111026763916 sec\n",
            "\n",
            "Epoch 38 Batch 0 Loss 0.0145\n",
            "Epoch 38 Loss 0.0165\n",
            "Time taken for 1 epoch 8.2123703956604 sec\n",
            "\n",
            "Epoch 39 Batch 0 Loss 0.0115\n",
            "Epoch 39 Loss 0.0143\n",
            "Time taken for 1 epoch 7.804339408874512 sec\n",
            "\n",
            "Epoch 40 Batch 0 Loss 0.0105\n",
            "Epoch 40 Loss 0.0128\n",
            "Time taken for 1 epoch 8.210641622543335 sec\n",
            "\n",
            "Epoch 41 Batch 0 Loss 0.0092\n",
            "Epoch 41 Loss 0.0115\n",
            "Time taken for 1 epoch 7.794395685195923 sec\n",
            "\n",
            "Epoch 42 Batch 0 Loss 0.0092\n",
            "Epoch 42 Loss 0.0107\n",
            "Time taken for 1 epoch 8.267288446426392 sec\n",
            "\n",
            "Epoch 43 Batch 0 Loss 0.0083\n",
            "Epoch 43 Loss 0.0094\n",
            "Time taken for 1 epoch 7.778191089630127 sec\n",
            "\n",
            "Epoch 44 Batch 0 Loss 0.0067\n",
            "Epoch 44 Loss 0.0089\n",
            "Time taken for 1 epoch 8.245533466339111 sec\n",
            "\n",
            "Epoch 45 Batch 0 Loss 0.0057\n",
            "Epoch 45 Loss 0.0078\n",
            "Time taken for 1 epoch 7.789781332015991 sec\n",
            "\n",
            "Epoch 46 Batch 0 Loss 0.0052\n",
            "Epoch 46 Loss 0.0074\n",
            "Time taken for 1 epoch 8.220114707946777 sec\n",
            "\n",
            "Epoch 47 Batch 0 Loss 0.0049\n",
            "Epoch 47 Loss 0.0069\n",
            "Time taken for 1 epoch 7.790413856506348 sec\n",
            "\n",
            "Epoch 48 Batch 0 Loss 0.0047\n",
            "Epoch 48 Loss 0.0066\n",
            "Time taken for 1 epoch 8.229118585586548 sec\n",
            "\n",
            "Epoch 49 Batch 0 Loss 0.0044\n",
            "Epoch 49 Loss 0.0061\n",
            "Time taken for 1 epoch 7.8306725025177 sec\n",
            "\n",
            "Epoch 50 Batch 0 Loss 0.0042\n",
            "Epoch 50 Loss 0.0060\n",
            "Time taken for 1 epoch 8.236531019210815 sec\n",
            "\n"
          ],
          "name": "stdout"
        }
      ]
    },
    {
      "cell_type": "markdown",
      "metadata": {
        "colab_type": "text",
        "id": "mU3Ce8M6I3rz"
      },
      "source": [
        "## Translate\n",
        "\n",
        "* The evaluate function is similar to the training loop, except we don't use *teacher forcing* here. The input to the decoder at each time step is its previous predictions along with the hidden state and the encoder output.\n",
        "* Stop predicting when the model predicts the *end token*.\n",
        "* And store the *attention weights for every time step*.\n",
        "\n",
        "Note: The encoder output is calculated only once for one input."
      ]
    },
    {
      "cell_type": "code",
      "metadata": {
        "colab_type": "code",
        "id": "EbQpyYs13jF_",
        "colab": {}
      },
      "source": [
        "def evaluate(sentence):\n",
        "    attention_plot = np.zeros((max_length_targ, max_length_inp))\n",
        "\n",
        "    sentence = preprocess_sentence(sentence)\n",
        "\n",
        "    inputs = [inp_lang.word_index[i] for i in sentence.split(' ')]\n",
        "    inputs = tf.keras.preprocessing.sequence.pad_sequences([inputs],\n",
        "                                                           maxlen=max_length_inp,\n",
        "                                                           padding='post')\n",
        "    inputs = tf.convert_to_tensor(inputs)\n",
        "\n",
        "    result = ''\n",
        "\n",
        "    hidden = [tf.zeros((1, units))]\n",
        "    enc_out, enc_hidden = encoder(inputs, hidden)\n",
        "\n",
        "    dec_hidden = enc_hidden\n",
        "    dec_input = tf.expand_dims([targ_lang.word_index['<start>']], 0)\n",
        "\n",
        "    for t in range(max_length_targ):\n",
        "        predictions, dec_hidden, attention_weights = decoder(dec_input,\n",
        "                                                             dec_hidden,\n",
        "                                                             enc_out)\n",
        "\n",
        "        # storing the attention weights to plot later on\n",
        "        attention_weights = tf.reshape(attention_weights, (-1, ))\n",
        "        attention_plot[t] = attention_weights.numpy()\n",
        "\n",
        "        predicted_id = tf.argmax(predictions[0]).numpy()\n",
        "\n",
        "        result += targ_lang.index_word[predicted_id] + ' '\n",
        "\n",
        "        if targ_lang.index_word[predicted_id] == '<end>':\n",
        "            return result, sentence, attention_plot\n",
        "\n",
        "        # the predicted ID is fed back into the model\n",
        "        dec_input = tf.expand_dims([predicted_id], 0)\n",
        "\n",
        "    return result, sentence, attention_plot"
      ],
      "execution_count": 0,
      "outputs": []
    },
    {
      "cell_type": "code",
      "metadata": {
        "colab_type": "code",
        "id": "s5hQWlbN3jGF",
        "colab": {}
      },
      "source": [
        "# function for plotting the attention weights\n",
        "%matplotlib inline\n",
        "def plot_attention(attention, sentence, predicted_sentence):\n",
        "    fig = plt.figure(figsize=(10,10))\n",
        "    ax = fig.add_subplot(1, 1, 1)\n",
        "    ax.matshow(attention, cmap='viridis')\n",
        "\n",
        "    fontdict = {'fontsize': 14}\n",
        "\n",
        "    ax.set_xticklabels([''] + sentence, fontdict=fontdict, rotation=90)\n",
        "    ax.set_yticklabels([''] + predicted_sentence, fontdict=fontdict)\n",
        "\n",
        "    ax.xaxis.set_major_locator(ticker.MultipleLocator(1))\n",
        "    ax.yaxis.set_major_locator(ticker.MultipleLocator(1))\n",
        "\n",
        "    plt.show()"
      ],
      "execution_count": 0,
      "outputs": []
    },
    {
      "cell_type": "code",
      "metadata": {
        "colab_type": "code",
        "id": "sl9zUHzg3jGI",
        "colab": {}
      },
      "source": [
        "def translate(sentence):\n",
        "    result, sentence, attention_plot = evaluate(sentence)\n",
        "\n",
        "    print('Input: %s' % (sentence))\n",
        "    print('Predicted translation: {}'.format(result))\n",
        "\n",
        "    attention_plot = attention_plot[:len(result.split(' ')), :len(sentence.split(' '))]\n",
        "    plot_attention(attention_plot, sentence.split(' '), result.split(' '))"
      ],
      "execution_count": 0,
      "outputs": []
    },
    {
      "cell_type": "markdown",
      "metadata": {
        "colab_type": "text",
        "id": "n250XbnjOaqP"
      },
      "source": [
        "## Restore the latest checkpoint and test"
      ]
    },
    {
      "cell_type": "code",
      "metadata": {
        "colab_type": "code",
        "id": "UJpT9D5_OgP6",
        "colab": {
          "base_uri": "https://localhost:8080/",
          "height": 34
        },
        "outputId": "3d22d826-9d1b-4506-96c6-d4333fa49196"
      },
      "source": [
        "# restoring the latest checkpoint in checkpoint_dir\n",
        "checkpoint.restore(tf.train.latest_checkpoint(checkpoint_dir))"
      ],
      "execution_count": 53,
      "outputs": [
        {
          "output_type": "execute_result",
          "data": {
            "text/plain": [
              "<tensorflow.python.training.tracking.util.CheckpointLoadStatus at 0x7fb725ef9358>"
            ]
          },
          "metadata": {
            "tags": []
          },
          "execution_count": 53
        }
      ]
    },
    {
      "cell_type": "code",
      "metadata": {
        "colab_type": "code",
        "id": "WrAM0FDomq3E",
        "colab": {
          "base_uri": "https://localhost:8080/",
          "height": 675
        },
        "outputId": "eea9daf5-3ff9-40c7-87a6-be937f27d7b6"
      },
      "source": [
        "translate(u'तुम कहाँ गए थे?')"
      ],
      "execution_count": 54,
      "outputs": [
        {
          "output_type": "stream",
          "text": [
            "Input: <start> तुम कहाँ गए थे ? <end>\n",
            "Predicted translation: where did you go ? <end> \n"
          ],
          "name": "stdout"
        },
        {
          "output_type": "display_data",
          "data": {
            "image/png": "[encoded data removed]",
            "text/plain": [
              "<Figure size 720x720 with 1 Axes>"
            ]
          },
          "metadata": {
            "tags": []
          }
        }
      ]
    },
    {
      "cell_type": "code",
      "metadata": {
        "colab_type": "code",
        "id": "zSx2iM36EZQZ",
        "colab": {
          "base_uri": "https://localhost:8080/",
          "height": 675
        },
        "outputId": "b9d6f466-4297-46cd-bdd8-cfd12523f6f6"
      },
      "source": [
        "translate(u'एक बार फिरसे कोशिश करो।')"
      ],
      "execution_count": 55,
      "outputs": [
        {
          "output_type": "stream",
          "text": [
            "Input: <start> एक बार फिरसे कोशिश करो। <end>\n",
            "Predicted translation: try it once again . <end> \n"
          ],
          "name": "stdout"
        },
        {
          "output_type": "display_data",
          "data": {
            "image/png": "[encoded data removed]",
            "text/plain": [
              "<Figure size 720x720 with 1 Axes>"
            ]
          },
          "metadata": {
            "tags": []
          }
        }
      ]
    },
    {
      "cell_type": "code",
      "metadata": {
        "colab_type": "code",
        "id": "A3LLCx3ZE0Ls",
        "colab": {
          "base_uri": "https://localhost:8080/",
          "height": 675
        },
        "outputId": "bc60fd87-419f-497a-f619-e415ebb65c01"
      },
      "source": [
        "translate(u\" मुझे लिखना पसंद है\")"
      ],
      "execution_count": 56,
      "outputs": [
        {
          "output_type": "stream",
          "text": [
            "Input: <start> मुझे लिखना पसंद है <end>\n",
            "Predicted translation: i can't put a koala ? <end> \n"
          ],
          "name": "stdout"
        },
        {
          "output_type": "display_data",
          "data": {
            "image/png": "[encoded data removed]",
            "text/plain": [
              "<Figure size 720x720 with 1 Axes>"
            ]
          },
          "metadata": {
            "tags": []
          }
        }
      ]
    },
    {
      "cell_type": "code",
      "metadata": {
        "colab_type": "code",
        "id": "DUQVLVqUE1YW",
        "colab": {
          "base_uri": "https://localhost:8080/",
          "height": 675
        },
        "outputId": "79aaf319-f370-41bf-dc63-98221f28b07a"
      },
      "source": [
        "# wrong translation\n",
        "translate(u'सब से अलग')"
      ],
      "execution_count": 57,
      "outputs": [
        {
          "output_type": "stream",
          "text": [
            "Input: <start> सब से अलग <end>\n",
            "Predicted translation: please feed the wine . <end> \n"
          ],
          "name": "stdout"
        },
        {
          "output_type": "display_data",
          "data": {
            "image/png": "[encoded data removed]",
            "text/plain": [
              "<Figure size 720x720 with 1 Axes>"
            ]
          },
          "metadata": {
            "tags": []
          }
        }
      ]
    },
    {
      "cell_type": "markdown",
      "metadata": {
        "colab_type": "text",
        "id": "RTe5P5ioMJwN"
      },
      "source": [
        "## Next steps\n",
        "\n",
        "* [Download a different dataset](http://www.manythings.org/anki/) to experiment with translations, for example, English to German, or English to French.\n",
        "* Experiment with training on a larger dataset, or using more epochs\n"
      ]
    }
  ]
}